{
 "cells": [
  {
   "cell_type": "markdown",
   "metadata": {},
   "source": [
    "## Amazon Business Research Analyst Hiring Challenge\n",
    "\n",
    "- This is part of hiring process for Amazon Business Analyst. The data provided here has two target variable - BiasInfluentialFactor and FitmentPercent. The prediction should be bias free as per requirement.\n"
   ]
  },
  {
   "cell_type": "code",
   "execution_count": 1,
   "metadata": {},
   "outputs": [],
   "source": [
    "#import libraries\n",
    "\n",
    "import pandas as pd\n",
    "import numpy as np\n",
    "import seaborn as sns\n",
    "import matplotlib.pyplot as plt\n",
    "\n",
    "\n",
    "from sklearn import preprocessing\n",
    "\n",
    "from sklearn.ensemble import RandomForestClassifier,RandomForestRegressor\n",
    "from xgboost import XGBClassifier,XGBRegressor\n",
    "\n",
    "from sklearn.metrics import roc_auc_score,classification_report,accuracy_score,r2_score,mean_squared_error,f1_score\n",
    "\n",
    "import warnings\n",
    "warnings.filterwarnings(action='ignore')\n",
    "#display all columns\n",
    "pd.pandas.set_option('display.max_columns',None) "
   ]
  },
  {
   "cell_type": "code",
   "execution_count": 2,
   "metadata": {},
   "outputs": [
    {
     "data": {
      "text/html": [
       "<div>\n",
       "<style scoped>\n",
       "    .dataframe tbody tr th:only-of-type {\n",
       "        vertical-align: middle;\n",
       "    }\n",
       "\n",
       "    .dataframe tbody tr th {\n",
       "        vertical-align: top;\n",
       "    }\n",
       "\n",
       "    .dataframe thead th {\n",
       "        text-align: right;\n",
       "    }\n",
       "</style>\n",
       "<table border=\"1\" class=\"dataframe\">\n",
       "  <thead>\n",
       "    <tr style=\"text-align: right;\">\n",
       "      <th></th>\n",
       "      <th>EmpID</th>\n",
       "      <th>EmpName</th>\n",
       "      <th>LanguageOfCommunication</th>\n",
       "      <th>Age</th>\n",
       "      <th>Gender</th>\n",
       "      <th>JobProfileIDApplyingFor</th>\n",
       "      <th>HighestDegree</th>\n",
       "      <th>DegreeBranch</th>\n",
       "      <th>GraduatingInstitute</th>\n",
       "      <th>LatestDegreeCGPA</th>\n",
       "      <th>YearsOfExperince</th>\n",
       "      <th>GraduationYear</th>\n",
       "      <th>CurrentCTC</th>\n",
       "      <th>ExpectedCTC</th>\n",
       "      <th>MartialStatus</th>\n",
       "      <th>EmpScore</th>\n",
       "      <th>CurrentDesignation</th>\n",
       "      <th>CurrentCompanyType</th>\n",
       "      <th>DepartmentInCompany</th>\n",
       "      <th>TotalLeavesTaken</th>\n",
       "      <th>BiasInfluentialFactor</th>\n",
       "      <th>FitmentPercent</th>\n",
       "    </tr>\n",
       "  </thead>\n",
       "  <tbody>\n",
       "    <tr>\n",
       "      <th>0</th>\n",
       "      <td>11041</td>\n",
       "      <td>John</td>\n",
       "      <td>English</td>\n",
       "      <td>35</td>\n",
       "      <td>Male</td>\n",
       "      <td>JR85289</td>\n",
       "      <td>B.Tech</td>\n",
       "      <td>Electrical</td>\n",
       "      <td>Tier 1</td>\n",
       "      <td>7</td>\n",
       "      <td>12</td>\n",
       "      <td>2009</td>\n",
       "      <td>21</td>\n",
       "      <td>26</td>\n",
       "      <td>Married</td>\n",
       "      <td>5</td>\n",
       "      <td>SSE</td>\n",
       "      <td>Enterprise</td>\n",
       "      <td>Design</td>\n",
       "      <td>20</td>\n",
       "      <td>YearsOfExperince</td>\n",
       "      <td>95.40</td>\n",
       "    </tr>\n",
       "    <tr>\n",
       "      <th>1</th>\n",
       "      <td>15079</td>\n",
       "      <td>William</td>\n",
       "      <td>English</td>\n",
       "      <td>26</td>\n",
       "      <td>Male</td>\n",
       "      <td>JR87525</td>\n",
       "      <td>B.Tech</td>\n",
       "      <td>Artificial Intelligence</td>\n",
       "      <td>Tier 3</td>\n",
       "      <td>7</td>\n",
       "      <td>3</td>\n",
       "      <td>2018</td>\n",
       "      <td>15</td>\n",
       "      <td>19</td>\n",
       "      <td>Married</td>\n",
       "      <td>5</td>\n",
       "      <td>BA</td>\n",
       "      <td>MidSized</td>\n",
       "      <td>Engineering</td>\n",
       "      <td>6</td>\n",
       "      <td>NaN</td>\n",
       "      <td>67.09</td>\n",
       "    </tr>\n",
       "    <tr>\n",
       "      <th>2</th>\n",
       "      <td>18638</td>\n",
       "      <td>James</td>\n",
       "      <td>English</td>\n",
       "      <td>36</td>\n",
       "      <td>Female</td>\n",
       "      <td>JR87525</td>\n",
       "      <td>PhD</td>\n",
       "      <td>Computer Science</td>\n",
       "      <td>Tier 1</td>\n",
       "      <td>6</td>\n",
       "      <td>6</td>\n",
       "      <td>2015</td>\n",
       "      <td>15</td>\n",
       "      <td>24</td>\n",
       "      <td>Single</td>\n",
       "      <td>5</td>\n",
       "      <td>SDE</td>\n",
       "      <td>MidSized</td>\n",
       "      <td>Engineering</td>\n",
       "      <td>19</td>\n",
       "      <td>Gender</td>\n",
       "      <td>91.26</td>\n",
       "    </tr>\n",
       "  </tbody>\n",
       "</table>\n",
       "</div>"
      ],
      "text/plain": [
       "   EmpID  EmpName LanguageOfCommunication  Age  Gender  \\\n",
       "0  11041     John                 English   35    Male   \n",
       "1  15079  William                 English   26    Male   \n",
       "2  18638    James                 English   36  Female   \n",
       "\n",
       "  JobProfileIDApplyingFor HighestDegree             DegreeBranch  \\\n",
       "0                 JR85289        B.Tech               Electrical   \n",
       "1                 JR87525        B.Tech  Artificial Intelligence   \n",
       "2                 JR87525           PhD         Computer Science   \n",
       "\n",
       "  GraduatingInstitute  LatestDegreeCGPA  YearsOfExperince  GraduationYear  \\\n",
       "0              Tier 1                 7                12            2009   \n",
       "1              Tier 3                 7                 3            2018   \n",
       "2              Tier 1                 6                 6            2015   \n",
       "\n",
       "   CurrentCTC  ExpectedCTC MartialStatus  EmpScore CurrentDesignation  \\\n",
       "0          21           26       Married         5                SSE   \n",
       "1          15           19       Married         5                 BA   \n",
       "2          15           24        Single         5                SDE   \n",
       "\n",
       "  CurrentCompanyType DepartmentInCompany  TotalLeavesTaken  \\\n",
       "0         Enterprise              Design                20   \n",
       "1           MidSized         Engineering                 6   \n",
       "2           MidSized         Engineering                19   \n",
       "\n",
       "  BiasInfluentialFactor  FitmentPercent  \n",
       "0      YearsOfExperince           95.40  \n",
       "1                   NaN           67.09  \n",
       "2                Gender           91.26  "
      ]
     },
     "execution_count": 2,
     "metadata": {},
     "output_type": "execute_result"
    }
   ],
   "source": [
    "df_train = pd.read_csv('Train.csv') # load train dataset\n",
    "df_train.head(3)"
   ]
  },
  {
   "cell_type": "code",
   "execution_count": 3,
   "metadata": {},
   "outputs": [
    {
     "data": {
      "text/html": [
       "<div>\n",
       "<style scoped>\n",
       "    .dataframe tbody tr th:only-of-type {\n",
       "        vertical-align: middle;\n",
       "    }\n",
       "\n",
       "    .dataframe tbody tr th {\n",
       "        vertical-align: top;\n",
       "    }\n",
       "\n",
       "    .dataframe thead th {\n",
       "        text-align: right;\n",
       "    }\n",
       "</style>\n",
       "<table border=\"1\" class=\"dataframe\">\n",
       "  <thead>\n",
       "    <tr style=\"text-align: right;\">\n",
       "      <th></th>\n",
       "      <th>EmpID</th>\n",
       "      <th>EmpName</th>\n",
       "      <th>LanguageOfCommunication</th>\n",
       "      <th>Age</th>\n",
       "      <th>Gender</th>\n",
       "      <th>JobProfileIDApplyingFor</th>\n",
       "      <th>HighestDegree</th>\n",
       "      <th>DegreeBranch</th>\n",
       "      <th>GraduatingInstitute</th>\n",
       "      <th>LatestDegreeCGPA</th>\n",
       "      <th>YearsOfExperince</th>\n",
       "      <th>GraduationYear</th>\n",
       "      <th>CurrentCTC</th>\n",
       "      <th>ExpectedCTC</th>\n",
       "      <th>MartialStatus</th>\n",
       "      <th>EmpScore</th>\n",
       "      <th>CurrentDesignation</th>\n",
       "      <th>CurrentCompanyType</th>\n",
       "      <th>DepartmentInCompany</th>\n",
       "      <th>TotalLeavesTaken</th>\n",
       "    </tr>\n",
       "  </thead>\n",
       "  <tbody>\n",
       "    <tr>\n",
       "      <th>0</th>\n",
       "      <td>5664</td>\n",
       "      <td>Theo</td>\n",
       "      <td>Native</td>\n",
       "      <td>35</td>\n",
       "      <td>Male</td>\n",
       "      <td>JR85289</td>\n",
       "      <td>PhD</td>\n",
       "      <td>Information Technology</td>\n",
       "      <td>Tier 2</td>\n",
       "      <td>5</td>\n",
       "      <td>5</td>\n",
       "      <td>2016</td>\n",
       "      <td>27</td>\n",
       "      <td>34</td>\n",
       "      <td>Single</td>\n",
       "      <td>4</td>\n",
       "      <td>SDE</td>\n",
       "      <td>Enterprise</td>\n",
       "      <td>Finance</td>\n",
       "      <td>18</td>\n",
       "    </tr>\n",
       "    <tr>\n",
       "      <th>1</th>\n",
       "      <td>23568</td>\n",
       "      <td>Vernie</td>\n",
       "      <td>English</td>\n",
       "      <td>35</td>\n",
       "      <td>Male</td>\n",
       "      <td>JR85289</td>\n",
       "      <td>B.Tech</td>\n",
       "      <td>Information Technology</td>\n",
       "      <td>Tier 3</td>\n",
       "      <td>9</td>\n",
       "      <td>12</td>\n",
       "      <td>2009</td>\n",
       "      <td>29</td>\n",
       "      <td>33</td>\n",
       "      <td>Married</td>\n",
       "      <td>4</td>\n",
       "      <td>EM</td>\n",
       "      <td>Enterprise</td>\n",
       "      <td>Engineering</td>\n",
       "      <td>8</td>\n",
       "    </tr>\n",
       "    <tr>\n",
       "      <th>2</th>\n",
       "      <td>21490</td>\n",
       "      <td>Wendell</td>\n",
       "      <td>English</td>\n",
       "      <td>28</td>\n",
       "      <td>Male</td>\n",
       "      <td>JR87525</td>\n",
       "      <td>M.Tech</td>\n",
       "      <td>Artificial Intelligence</td>\n",
       "      <td>Tier 2</td>\n",
       "      <td>9</td>\n",
       "      <td>2</td>\n",
       "      <td>2019</td>\n",
       "      <td>18</td>\n",
       "      <td>25</td>\n",
       "      <td>Married</td>\n",
       "      <td>3</td>\n",
       "      <td>SDE</td>\n",
       "      <td>Startup</td>\n",
       "      <td>Engineering</td>\n",
       "      <td>18</td>\n",
       "    </tr>\n",
       "  </tbody>\n",
       "</table>\n",
       "</div>"
      ],
      "text/plain": [
       "   EmpID  EmpName LanguageOfCommunication  Age Gender JobProfileIDApplyingFor  \\\n",
       "0   5664     Theo                  Native   35   Male                 JR85289   \n",
       "1  23568   Vernie                 English   35   Male                 JR85289   \n",
       "2  21490  Wendell                 English   28   Male                 JR87525   \n",
       "\n",
       "  HighestDegree             DegreeBranch GraduatingInstitute  \\\n",
       "0           PhD   Information Technology              Tier 2   \n",
       "1        B.Tech   Information Technology              Tier 3   \n",
       "2        M.Tech  Artificial Intelligence              Tier 2   \n",
       "\n",
       "   LatestDegreeCGPA  YearsOfExperince  GraduationYear  CurrentCTC  \\\n",
       "0                 5                 5            2016          27   \n",
       "1                 9                12            2009          29   \n",
       "2                 9                 2            2019          18   \n",
       "\n",
       "   ExpectedCTC MartialStatus  EmpScore CurrentDesignation CurrentCompanyType  \\\n",
       "0           34        Single         4                SDE         Enterprise   \n",
       "1           33       Married         4                 EM         Enterprise   \n",
       "2           25       Married         3                SDE            Startup   \n",
       "\n",
       "  DepartmentInCompany  TotalLeavesTaken  \n",
       "0             Finance                18  \n",
       "1         Engineering                 8  \n",
       "2         Engineering                18  "
      ]
     },
     "execution_count": 3,
     "metadata": {},
     "output_type": "execute_result"
    }
   ],
   "source": [
    "df_test = pd.read_csv('Test.csv') #load test set\n",
    "df_test.head(3)"
   ]
  },
  {
   "cell_type": "code",
   "execution_count": 4,
   "metadata": {},
   "outputs": [
    {
     "name": "stdout",
     "output_type": "stream",
     "text": [
      "Train data shape (13645, 22)\n",
      "Test data shape (8745, 20)\n"
     ]
    }
   ],
   "source": [
    "#dataset shape\n",
    "print('Train data shape',df_train.shape) \n",
    "print('Test data shape',df_test.shape)"
   ]
  },
  {
   "cell_type": "markdown",
   "metadata": {},
   "source": [
    "As seen in the train data has 22 columns and the test set has only two. Seemingly we have to target variable. I have done- \n",
    "Regression for prediction of FitmentPercent first, then attemp to predict BiasInfluentialFactor by using a classifier."
   ]
  },
  {
   "cell_type": "markdown",
   "metadata": {},
   "source": [
    "## EDA"
   ]
  },
  {
   "cell_type": "code",
   "execution_count": 5,
   "metadata": {},
   "outputs": [],
   "source": [
    "#function to check null values\n",
    "\n",
    "def null_find(data):\n",
    "    temp = 0\n",
    "    for col in data.columns:\n",
    "        if data[col].isnull().sum()>0:\n",
    "            temp +=1\n",
    "            print (col,'in data have total null ', data[col].isnull().sum(),'=>',\n",
    "                   round(data[col].isnull().sum()*100/len(data),2),'%')\n",
    "    if temp==0:\n",
    "        print('The dataset has no NULL')"
   ]
  },
  {
   "cell_type": "code",
   "execution_count": 6,
   "metadata": {},
   "outputs": [
    {
     "name": "stdout",
     "output_type": "stream",
     "text": [
      "Train data has NULL -- \n",
      "BiasInfluentialFactor in data have total null  3336 => 24.45 %\n"
     ]
    }
   ],
   "source": [
    "print('Train data has NULL -- ')\n",
    "null_find(df_train)"
   ]
  },
  {
   "cell_type": "code",
   "execution_count": 7,
   "metadata": {},
   "outputs": [
    {
     "name": "stdout",
     "output_type": "stream",
     "text": [
      "Test data has NULL -- \n",
      "The dataset has no NULL\n"
     ]
    }
   ],
   "source": [
    "print('Test data has NULL -- ')\n",
    "null_find(df_test)"
   ]
  },
  {
   "cell_type": "code",
   "execution_count": 8,
   "metadata": {},
   "outputs": [],
   "source": [
    "#Functions for analyse the columns\n",
    "\n",
    "#find categorical columns \n",
    "\n",
    "def cat_columns(data):\n",
    "    cat_columns_var = [col for col in data.columns if data[col].dtype =='O']\n",
    "    return cat_columns_var\n",
    "\n",
    "#find Numerical columns \n",
    "\n",
    "def numerical_columns(data):\n",
    "    numerical_columns = [col for col in data.columns if data[col].dtype !='O']\n",
    "    return numerical_columns\n",
    "\n",
    "#find unique value columns\n",
    "\n",
    "def unique_val_columns(data):\n",
    "    uniq = []\n",
    "    for col in data.columns:\n",
    "        if data[col].nunique() == len(data):\n",
    "            uniq.append(col)\n",
    "    return uniq"
   ]
  },
  {
   "cell_type": "code",
   "execution_count": 9,
   "metadata": {},
   "outputs": [
    {
     "name": "stdout",
     "output_type": "stream",
     "text": [
      "Categorical columns in Train data ['EmpName', 'LanguageOfCommunication', 'Gender', 'JobProfileIDApplyingFor', 'HighestDegree', 'DegreeBranch', 'GraduatingInstitute', 'MartialStatus', 'CurrentDesignation', 'CurrentCompanyType', 'DepartmentInCompany', 'BiasInfluentialFactor']\n",
      "\n",
      "Numerical columns in Train data ['EmpID', 'Age', 'LatestDegreeCGPA', 'YearsOfExperince', 'GraduationYear', 'CurrentCTC', 'ExpectedCTC', 'EmpScore', 'TotalLeavesTaken', 'FitmentPercent']\n",
      "\n",
      "Unique value columns in Train data ['EmpID']\n"
     ]
    }
   ],
   "source": [
    "print('Categorical columns in Train data',cat_columns(df_train))\n",
    "print('\\nNumerical columns in Train data',numerical_columns(df_train))\n",
    "print('\\nUnique value columns in Train data', unique_val_columns(df_train))"
   ]
  },
  {
   "cell_type": "code",
   "execution_count": 10,
   "metadata": {},
   "outputs": [
    {
     "data": {
      "image/png": "[encoded data removed]",
      "text/plain": [
       "<Figure size 432x288 with 1 Axes>"
      ]
     },
     "metadata": {
      "needs_background": "light"
     },
     "output_type": "display_data"
    },
    {
     "data": {
      "image/png": "[encoded data removed]",
      "text/plain": [
       "<Figure size 432x288 with 1 Axes>"
      ]
     },
     "metadata": {
      "needs_background": "light"
     },
     "output_type": "display_data"
    },
    {
     "data": {
      "image/png": "[encoded data removed]",
      "text/plain": [
       "<Figure size 432x288 with 1 Axes>"
      ]
     },
     "metadata": {
      "needs_background": "light"
     },
     "output_type": "display_data"
    },
    {
     "data": {
      "image/png": "[encoded data removed]",
      "text/plain": [
       "<Figure size 432x288 with 1 Axes>"
      ]
     },
     "metadata": {
      "needs_background": "light"
     },
     "output_type": "display_data"
    },
    {
     "data": {
      "image/png": "[encoded data removed]",
      "text/plain": [
       "<Figure size 432x288 with 1 Axes>"
      ]
     },
     "metadata": {
      "needs_background": "light"
     },
     "output_type": "display_data"
    },
    {
     "data": {
      "image/png": "[encoded data removed]",
      "text/plain": [
       "<Figure size 432x288 with 1 Axes>"
      ]
     },
     "metadata": {
      "needs_background": "light"
     },
     "output_type": "display_data"
    },
    {
     "data": {
      "image/png": "[encoded data removed]",
      "text/plain": [
       "<Figure size 432x288 with 1 Axes>"
      ]
     },
     "metadata": {
      "needs_background": "light"
     },
     "output_type": "display_data"
    },
    {
     "data": {
      "image/png": "[encoded data removed]",
      "text/plain": [
       "<Figure size 432x288 with 1 Axes>"
      ]
     },
     "metadata": {
      "needs_background": "light"
     },
     "output_type": "display_data"
    },
    {
     "data": {
      "image/png": "[encoded data removed]",
      "text/plain": [
       "<Figure size 432x288 with 1 Axes>"
      ]
     },
     "metadata": {
      "needs_background": "light"
     },
     "output_type": "display_data"
    },
    {
     "data": {
      "image/png": "[encoded data removed]",
      "text/plain": [
       "<Figure size 432x288 with 1 Axes>"
      ]
     },
     "metadata": {
      "needs_background": "light"
     },
     "output_type": "display_data"
    },
    {
     "data": {
      "image/png": "[encoded data removed]",
      "text/plain": [
       "<Figure size 432x288 with 1 Axes>"
      ]
     },
     "metadata": {
      "needs_background": "light"
     },
     "output_type": "display_data"
    }
   ],
   "source": [
    "#see the frequency in Categorical columns\n",
    "for col in cat_columns(df_train):\n",
    "    if col != 'EmpName':\n",
    "        sns.countplot(df_train[col])\n",
    "        plt.show()"
   ]
  },
  {
   "cell_type": "code",
   "execution_count": 11,
   "metadata": {},
   "outputs": [
    {
     "data": {
      "image/png": "[encoded data removed]",
      "text/plain": [
       "<Figure size 432x288 with 1 Axes>"
      ]
     },
     "metadata": {
      "needs_background": "light"
     },
     "output_type": "display_data"
    },
    {
     "data": {
      "image/png": "[encoded data removed]",
      "text/plain": [
       "<Figure size 432x288 with 1 Axes>"
      ]
     },
     "metadata": {
      "needs_background": "light"
     },
     "output_type": "display_data"
    },
    {
     "data": {
      "image/png": "[encoded data removed]",
      "text/plain": [
       "<Figure size 432x288 with 1 Axes>"
      ]
     },
     "metadata": {
      "needs_background": "light"
     },
     "output_type": "display_data"
    },
    {
     "data": {
      "image/png": "[encoded data removed]",
      "text/plain": [
       "<Figure size 432x288 with 1 Axes>"
      ]
     },
     "metadata": {
      "needs_background": "light"
     },
     "output_type": "display_data"
    },
    {
     "data": {
      "image/png": "[encoded data removed]",
      "text/plain": [
       "<Figure size 432x288 with 1 Axes>"
      ]
     },
     "metadata": {
      "needs_background": "light"
     },
     "output_type": "display_data"
    },
    {
     "data": {
      "image/png": "[encoded data removed]",
      "text/plain": [
       "<Figure size 432x288 with 1 Axes>"
      ]
     },
     "metadata": {
      "needs_background": "light"
     },
     "output_type": "display_data"
    },
    {
     "data": {
      "image/png": "[encoded data removed]",
      "text/plain": [
       "<Figure size 432x288 with 1 Axes>"
      ]
     },
     "metadata": {
      "needs_background": "light"
     },
     "output_type": "display_data"
    },
    {
     "data": {
      "image/png": "[encoded data removed]",
      "text/plain": [
       "<Figure size 432x288 with 1 Axes>"
      ]
     },
     "metadata": {
      "needs_background": "light"
     },
     "output_type": "display_data"
    },
    {
     "data": {
      "image/png": "[encoded data removed]",
      "text/plain": [
       "<Figure size 432x288 with 1 Axes>"
      ]
     },
     "metadata": {
      "needs_background": "light"
     },
     "output_type": "display_data"
    }
   ],
   "source": [
    "#see the distribution of numerical columns\n",
    "for col in numerical_columns(df_train):\n",
    "    if col != 'EmpID':\n",
    "        sns.distplot(df_train[col])\n",
    "        plt.show()"
   ]
  },
  {
   "cell_type": "markdown",
   "metadata": {},
   "source": [
    "### Observation \n",
    "\n",
    "- The categorical columns may be transferred to dummy variables\n",
    "- Target variable BiasInfluentialFactor has few NULLs which can be replaced with some string\n",
    "- EmpID,EmpName has high cardinality and must be dropped"
   ]
  },
  {
   "cell_type": "markdown",
   "metadata": {},
   "source": [
    "## Feature Engineering"
   ]
  },
  {
   "cell_type": "code",
   "execution_count": 12,
   "metadata": {},
   "outputs": [],
   "source": [
    "#storing ID of test data. It'll be needed for final prediction submission file creation\n",
    "\n",
    "test_data_id = df_test['EmpID']"
   ]
  },
  {
   "cell_type": "code",
   "execution_count": 13,
   "metadata": {},
   "outputs": [],
   "source": [
    "#drop the columns as these are unique field and high cardinality\n",
    "\n",
    "df_test.drop(['EmpID','EmpName'],axis=1,inplace=True)\n",
    "df_train.drop(['EmpID','EmpName'],axis=1,inplace=True)"
   ]
  },
  {
   "cell_type": "code",
   "execution_count": 14,
   "metadata": {},
   "outputs": [
    {
     "data": {
      "text/plain": [
       "DegreeBranch          2858\n",
       "Gender                2605\n",
       "YearsOfExperince      1561\n",
       "CurrentCompanyType    1174\n",
       "EmpScore               659\n",
       "HighestDegree          582\n",
       "Ethinicity             328\n",
       "MartialStatus          280\n",
       "LatestDegreeCGPA       262\n",
       "Name: BiasInfluentialFactor, dtype: int64"
      ]
     },
     "execution_count": 14,
     "metadata": {},
     "output_type": "execute_result"
    }
   ],
   "source": [
    "#target field's frequency \n",
    "\n",
    "df_train['BiasInfluentialFactor'].value_counts()"
   ]
  },
  {
   "cell_type": "code",
   "execution_count": 15,
   "metadata": {},
   "outputs": [],
   "source": [
    "#function for categorical variable to dummy creation\n",
    "\n",
    "def categorical_variable_dummy(data):\n",
    "     cat_col = [col for col in data.columns if data[col].dtype == 'O' and col!= 'BiasInfluentialFactor']\n",
    "     data = pd.get_dummies(data,columns=cat_col)  \n",
    "     return data"
   ]
  },
  {
   "cell_type": "code",
   "execution_count": 16,
   "metadata": {},
   "outputs": [],
   "source": [
    "#call function for dummy conversion\n",
    "\n",
    "df_train = categorical_variable_dummy(df_train)\n",
    "df_test = categorical_variable_dummy(df_test)\n",
    "\n",
    "# df_train.head()"
   ]
  },
  {
   "cell_type": "markdown",
   "metadata": {},
   "source": [
    "## ML Model"
   ]
  },
  {
   "cell_type": "markdown",
   "metadata": {},
   "source": [
    "We have to predict two fields - FitmentPercent,BiasInfluentialFactor. FitmentPercent prediction needs regression analysis and BiasInfluentialFactor needs classification analysis."
   ]
  },
  {
   "cell_type": "markdown",
   "metadata": {},
   "source": [
    "### Regression model to predict FitmentPercent"
   ]
  },
  {
   "cell_type": "code",
   "execution_count": 17,
   "metadata": {},
   "outputs": [],
   "source": [
    "#import necessary library\n",
    "\n",
    "from functools import partial\n",
    "from skopt import space\n",
    "from skopt import gp_minimize\n",
    "from sklearn import model_selection"
   ]
  },
  {
   "cell_type": "code",
   "execution_count": 18,
   "metadata": {},
   "outputs": [],
   "source": [
    "#split the data into feature and label\n",
    "\n",
    "X=df_train.drop(['FitmentPercent','BiasInfluentialFactor'],axis=1)\n",
    "y=df_train['FitmentPercent']"
   ]
  },
  {
   "cell_type": "code",
   "execution_count": 19,
   "metadata": {},
   "outputs": [],
   "source": [
    "#optimizer to find best fit parameters (also include cross validation)\n",
    "\n",
    "def optimize(params,param_names,x,y):\n",
    "    params = dict(zip(param_names,params))\n",
    "    model = XGBRegressor(**params)\n",
    "    kf = model_selection.KFold(n_splits=3)\n",
    "    accuracies = []\n",
    "    for idx in kf.split(X=x,y=y):\n",
    "        train_idx, test_idx = idx[0],idx[1]\n",
    "        xtrain = x.iloc[train_idx]\n",
    "        ytrain = y.iloc[train_idx]\n",
    "        \n",
    "        xtest = x.iloc[test_idx]\n",
    "        ytest = y.iloc[test_idx]\n",
    "        \n",
    "        model.fit(xtrain,ytrain)\n",
    "        preds = model.predict(xtest)\n",
    "        fold_acc = r2_score(ytest,preds)\n",
    "        accuracies.append(fold_acc)\n",
    "    return -1.0 * np.mean(accuracies)"
   ]
  },
  {
   "cell_type": "code",
   "execution_count": 26,
   "metadata": {},
   "outputs": [],
   "source": [
    "param_space = [\n",
    "    space.Integer(5,15,name='max_depth'),\n",
    "    space.Integer(200,700,name='n_estimators'),\n",
    "    space.Real(0.01,1,prior='uniform',name='learning_rate'),\n",
    "    space.Real(0.01,2,prior='uniform',name='reg_lambda'),\n",
    "    space.Real(0.01,1, prior='uniform', name='gamma')\n",
    "    ]\n",
    "param_names = [\n",
    "    'max_depth',\n",
    "    'n_estimators',\n",
    "    'learning_rate',\n",
    "    'reg_lambda',\n",
    "    'gamma',\n",
    "    'subsample'\n",
    "]\n",
    "optimization_function = partial(\n",
    "        optimize,\n",
    "        param_names = param_names,\n",
    "        x=X,\n",
    "        y=y\n",
    ")"
   ]
  },
  {
   "cell_type": "code",
   "execution_count": 27,
   "metadata": {},
   "outputs": [
    {
     "name": "stdout",
     "output_type": "stream",
     "text": [
      "Iteration No: 1 started. Evaluating function at random point.\n",
      "Iteration No: 1 ended. Evaluation done at random point.\n",
      "Time taken: 37.7756\n",
      "Function value obtained: -0.4041\n",
      "Current minimum: -0.4041\n",
      "Iteration No: 2 started. Evaluating function at random point.\n",
      "Iteration No: 2 ended. Evaluation done at random point.\n",
      "Time taken: 77.6686\n",
      "Function value obtained: -0.5594\n",
      "Current minimum: -0.5594\n",
      "Iteration No: 3 started. Evaluating function at random point.\n",
      "Iteration No: 3 ended. Evaluation done at random point.\n",
      "Time taken: 99.5321\n",
      "Function value obtained: -0.5418\n",
      "Current minimum: -0.5594\n",
      "Iteration No: 4 started. Evaluating function at random point.\n",
      "Iteration No: 4 ended. Evaluation done at random point.\n",
      "Time taken: 16.8214\n",
      "Function value obtained: -0.5376\n",
      "Current minimum: -0.5594\n",
      "Iteration No: 5 started. Evaluating function at random point.\n",
      "Iteration No: 5 ended. Evaluation done at random point.\n",
      "Time taken: 21.0877\n",
      "Function value obtained: -0.5289\n",
      "Current minimum: -0.5594\n",
      "Iteration No: 6 started. Evaluating function at random point.\n",
      "Iteration No: 6 ended. Evaluation done at random point.\n",
      "Time taken: 30.2667\n",
      "Function value obtained: -0.5511\n",
      "Current minimum: -0.5594\n",
      "Iteration No: 7 started. Evaluating function at random point.\n",
      "Iteration No: 7 ended. Evaluation done at random point.\n",
      "Time taken: 22.8340\n",
      "Function value obtained: -0.6264\n",
      "Current minimum: -0.6264\n",
      "Iteration No: 8 started. Evaluating function at random point.\n",
      "Iteration No: 8 ended. Evaluation done at random point.\n",
      "Time taken: 72.5662\n",
      "Function value obtained: -0.5300\n",
      "Current minimum: -0.6264\n",
      "Iteration No: 9 started. Evaluating function at random point.\n",
      "Iteration No: 9 ended. Evaluation done at random point.\n",
      "Time taken: 22.7615\n",
      "Function value obtained: -0.4069\n",
      "Current minimum: -0.6264\n",
      "Iteration No: 10 started. Evaluating function at random point.\n",
      "Iteration No: 10 ended. Evaluation done at random point.\n",
      "Time taken: 37.9374\n",
      "Function value obtained: -0.5571\n",
      "Current minimum: -0.6264\n",
      "Iteration No: 11 started. Searching for the next optimal point.\n",
      "Iteration No: 11 ended. Search finished for the next optimal point.\n",
      "Time taken: 138.2132\n",
      "Function value obtained: -0.5643\n",
      "Current minimum: -0.6264\n",
      "Iteration No: 12 started. Searching for the next optimal point.\n",
      "Iteration No: 12 ended. Search finished for the next optimal point.\n",
      "Time taken: 106.4231\n",
      "Function value obtained: -0.5917\n",
      "Current minimum: -0.6264\n",
      "Iteration No: 13 started. Searching for the next optimal point.\n",
      "Iteration No: 13 ended. Search finished for the next optimal point.\n",
      "Time taken: 33.3934\n",
      "Function value obtained: -0.6344\n",
      "Current minimum: -0.6344\n",
      "Iteration No: 14 started. Searching for the next optimal point.\n",
      "Iteration No: 14 ended. Search finished for the next optimal point.\n",
      "Time taken: 9.0138\n",
      "Function value obtained: -0.1629\n",
      "Current minimum: -0.6344\n",
      "Iteration No: 15 started. Searching for the next optimal point.\n",
      "Iteration No: 15 ended. Search finished for the next optimal point.\n",
      "Time taken: 29.1578\n",
      "Function value obtained: -0.6349\n",
      "Current minimum: -0.6349\n",
      "Iteration No: 16 started. Searching for the next optimal point.\n",
      "Iteration No: 16 ended. Search finished for the next optimal point.\n",
      "Time taken: 126.6010\n",
      "Function value obtained: -0.3948\n",
      "Current minimum: -0.6349\n",
      "Iteration No: 17 started. Searching for the next optimal point.\n",
      "Iteration No: 17 ended. Search finished for the next optimal point.\n",
      "Time taken: 65.6317\n",
      "Function value obtained: -0.4968\n",
      "Current minimum: -0.6349\n",
      "Iteration No: 18 started. Searching for the next optimal point.\n",
      "Iteration No: 18 ended. Search finished for the next optimal point.\n",
      "Time taken: 77.3246\n",
      "Function value obtained: -0.5845\n",
      "Current minimum: -0.6349\n"
     ]
    }
   ],
   "source": [
    "result = gp_minimize(optimization_function,\n",
    "                     dimensions=param_space,\n",
    "                    n_calls = 18,\n",
    "                    n_random_starts=10,\n",
    "                    verbose=10)"
   ]
  },
  {
   "cell_type": "code",
   "execution_count": 28,
   "metadata": {},
   "outputs": [
    {
     "name": "stdout",
     "output_type": "stream",
     "text": [
      "{'max_depth': 5, 'n_estimators': 563, 'learning_rate': 0.01, 'reg_lambda': 1.6261339469459832, 'gamma': 0.01}\n"
     ]
    }
   ],
   "source": [
    "print(dict(zip(param_names,result.x))) #print best parameter set"
   ]
  },
  {
   "cell_type": "code",
   "execution_count": 29,
   "metadata": {},
   "outputs": [],
   "source": [
    "#train model and predict based on parameter of optimization\n",
    "\n",
    "x_r=XGBRegressor(max_depth= 5, n_estimators=563, learning_rate=0.01, reg_lambda=1.6261339469459832, gamma=0.01) # parameters obtained from optimization\n",
    "x_r.fit(X, y)\n",
    "prediction_re = x_r.predict(df_test)"
   ]
  },
  {
   "cell_type": "markdown",
   "metadata": {},
   "source": [
    "### Classifier to find BiasInfluentialFactor"
   ]
  },
  {
   "cell_type": "code",
   "execution_count": 71,
   "metadata": {},
   "outputs": [],
   "source": [
    "df_train.fillna('Missing',inplace=True) #blank field filled with \"Missing\""
   ]
  },
  {
   "cell_type": "code",
   "execution_count": 72,
   "metadata": {
    "scrolled": true
   },
   "outputs": [
    {
     "data": {
      "text/plain": [
       "Missing               3336\n",
       "DegreeBranch          2858\n",
       "Gender                2605\n",
       "YearsOfExperince      1561\n",
       "CurrentCompanyType    1174\n",
       "EmpScore               659\n",
       "HighestDegree          582\n",
       "Ethinicity             328\n",
       "MartialStatus          280\n",
       "LatestDegreeCGPA       262\n",
       "Name: BiasInfluentialFactor, dtype: int64"
      ]
     },
     "execution_count": 72,
     "metadata": {},
     "output_type": "execute_result"
    }
   ],
   "source": [
    "df_train['BiasInfluentialFactor'].value_counts() #Target field's frequency count"
   ]
  },
  {
   "cell_type": "code",
   "execution_count": 73,
   "metadata": {},
   "outputs": [],
   "source": [
    "#dictionary created for encoding categories\n",
    "\n",
    "dic_bias = {'Missing':1,'DegreeBranch':2,'Gender':3,'YearsOfExperince':4,'CurrentCompanyType':5,'EmpScore':6,\n",
    "            'HighestDegree':7,'Ethinicity':8,'MartialStatus':9,'LatestDegreeCGPA':10}"
   ]
  },
  {
   "cell_type": "code",
   "execution_count": 74,
   "metadata": {},
   "outputs": [],
   "source": [
    "#Target and independent variable\n",
    "\n",
    "X=df_train.drop(['BiasInfluentialFactor'],axis=1)\n",
    "y=df_train['BiasInfluentialFactor']"
   ]
  },
  {
   "cell_type": "code",
   "execution_count": 75,
   "metadata": {},
   "outputs": [
    {
     "data": {
      "text/plain": [
       "0    4\n",
       "1    1\n",
       "2    3\n",
       "3    3\n",
       "4    2\n",
       "Name: BiasInfluentialFactor, dtype: int64"
      ]
     },
     "execution_count": 75,
     "metadata": {},
     "output_type": "execute_result"
    }
   ],
   "source": [
    "#change the categories to numerical by mapping it with dictionary\n",
    "\n",
    "y=y.map(dic_bias)\n",
    "y.head()"
   ]
  },
  {
   "cell_type": "code",
   "execution_count": 89,
   "metadata": {},
   "outputs": [],
   "source": [
    "#optimization for parameter\n",
    "\n",
    "def optimize(params,param_names,x,y):\n",
    "    params = dict(zip(param_names,params))\n",
    "    model = XGBClassifier(**params)\n",
    "    kf = model_selection.StratifiedKFold(n_splits=3)\n",
    "    accuracies = []\n",
    "    for idx in kf.split(X=x,y=y):\n",
    "        train_idx, test_idx = idx[0],idx[1]\n",
    "        xtrain = x.iloc[train_idx]\n",
    "        ytrain = y.iloc[train_idx]\n",
    "        \n",
    "        xtest = x.iloc[test_idx]\n",
    "        ytest = y.iloc[test_idx]\n",
    "        \n",
    "        model.fit(xtrain,ytrain)\n",
    "        preds = model.predict(xtest)\n",
    "        fold_acc = f1_score(ytest,preds,average='weighted')\n",
    "#         fold_acc=accuracy_score(ytest,preds)\n",
    "        accuracies.append(fold_acc)\n",
    "    return -1.0 * np.mean(accuracies)"
   ]
  },
  {
   "cell_type": "code",
   "execution_count": 90,
   "metadata": {},
   "outputs": [],
   "source": [
    "param_space = [\n",
    "    space.Integer(5,12,name='max_depth'),\n",
    "    space.Integer(200,600,name='n_estimators'),\n",
    "    space.Real(0.01,1,prior='uniform',name='learning_rate'),\n",
    "    space.Real(0.05,3,prior='uniform',name='reg_lambda')\n",
    "    ]\n",
    "param_names = [\n",
    "    'max_depth',\n",
    "    'n_estimators',\n",
    "    'learning_rate',\n",
    "    'reg_lambda'\n",
    "]\n",
    "optimization_function = partial(\n",
    "        optimize,\n",
    "        param_names = param_names,\n",
    "        x=X,\n",
    "        y=y\n",
    ")"
   ]
  },
  {
   "cell_type": "code",
   "execution_count": 91,
   "metadata": {},
   "outputs": [
    {
     "name": "stdout",
     "output_type": "stream",
     "text": [
      "Iteration No: 1 started. Evaluating function at random point.\n",
      "Iteration No: 1 ended. Evaluation done at random point.\n",
      "Time taken: 91.6494\n",
      "Function value obtained: -0.9659\n",
      "Current minimum: -0.9659\n",
      "Iteration No: 2 started. Evaluating function at random point.\n",
      "Iteration No: 2 ended. Evaluation done at random point.\n",
      "Time taken: 192.8565\n",
      "Function value obtained: -0.9662\n",
      "Current minimum: -0.9662\n",
      "Iteration No: 3 started. Evaluating function at random point.\n",
      "Iteration No: 3 ended. Evaluation done at random point.\n",
      "Time taken: 95.8813\n",
      "Function value obtained: -0.9657\n",
      "Current minimum: -0.9662\n",
      "Iteration No: 4 started. Evaluating function at random point.\n",
      "Iteration No: 4 ended. Evaluation done at random point.\n",
      "Time taken: 106.1729\n",
      "Function value obtained: -0.9656\n",
      "Current minimum: -0.9662\n",
      "Iteration No: 5 started. Evaluating function at random point.\n",
      "Iteration No: 5 ended. Evaluation done at random point.\n",
      "Time taken: 190.8110\n",
      "Function value obtained: -0.9664\n",
      "Current minimum: -0.9664\n",
      "Iteration No: 6 started. Evaluating function at random point.\n",
      "Iteration No: 6 ended. Evaluation done at random point.\n",
      "Time taken: 91.1909\n",
      "Function value obtained: -0.9654\n",
      "Current minimum: -0.9664\n",
      "Iteration No: 7 started. Evaluating function at random point.\n",
      "Iteration No: 7 ended. Evaluation done at random point.\n",
      "Time taken: 165.0518\n",
      "Function value obtained: -0.9657\n",
      "Current minimum: -0.9664\n",
      "Iteration No: 8 started. Evaluating function at random point.\n",
      "Iteration No: 8 ended. Evaluation done at random point.\n",
      "Time taken: 144.6398\n",
      "Function value obtained: -0.9655\n",
      "Current minimum: -0.9664\n",
      "Iteration No: 9 started. Evaluating function at random point.\n",
      "Iteration No: 9 ended. Evaluation done at random point.\n",
      "Time taken: 141.5704\n",
      "Function value obtained: -0.9659\n",
      "Current minimum: -0.9664\n",
      "Iteration No: 10 started. Evaluating function at random point.\n",
      "Iteration No: 10 ended. Evaluation done at random point.\n",
      "Time taken: 93.6445\n",
      "Function value obtained: -0.9653\n",
      "Current minimum: -0.9664\n",
      "Iteration No: 11 started. Searching for the next optimal point.\n",
      "Iteration No: 11 ended. Search finished for the next optimal point.\n",
      "Time taken: 123.5510\n",
      "Function value obtained: -0.9662\n",
      "Current minimum: -0.9664\n",
      "Iteration No: 12 started. Searching for the next optimal point.\n",
      "Iteration No: 12 ended. Search finished for the next optimal point.\n",
      "Time taken: 165.6010\n",
      "Function value obtained: -0.9655\n",
      "Current minimum: -0.9664\n",
      "Iteration No: 13 started. Searching for the next optimal point.\n",
      "Iteration No: 13 ended. Search finished for the next optimal point.\n",
      "Time taken: 137.3255\n",
      "Function value obtained: -0.9654\n",
      "Current minimum: -0.9664\n",
      "Iteration No: 14 started. Searching for the next optimal point.\n",
      "Iteration No: 14 ended. Search finished for the next optimal point.\n",
      "Time taken: 134.8665\n",
      "Function value obtained: -0.9651\n",
      "Current minimum: -0.9664\n",
      "Iteration No: 15 started. Searching for the next optimal point.\n",
      "Iteration No: 15 ended. Search finished for the next optimal point.\n",
      "Time taken: 178.9035\n",
      "Function value obtained: -0.9656\n",
      "Current minimum: -0.9664\n",
      "Iteration No: 16 started. Searching for the next optimal point.\n",
      "Iteration No: 16 ended. Search finished for the next optimal point.\n",
      "Time taken: 166.1684\n",
      "Function value obtained: -0.9665\n",
      "Current minimum: -0.9665\n",
      "Iteration No: 17 started. Searching for the next optimal point.\n",
      "Iteration No: 17 ended. Search finished for the next optimal point.\n",
      "Time taken: 90.1874\n",
      "Function value obtained: -0.9652\n",
      "Current minimum: -0.9665\n",
      "Iteration No: 18 started. Searching for the next optimal point.\n",
      "Iteration No: 18 ended. Search finished for the next optimal point.\n",
      "Time taken: 180.3859\n",
      "Function value obtained: -0.9657\n",
      "Current minimum: -0.9665\n"
     ]
    }
   ],
   "source": [
    "result = gp_minimize(optimization_function,\n",
    "                     dimensions=param_space,\n",
    "                    n_calls = 18,\n",
    "                    n_random_starts=10,\n",
    "                    verbose=10)"
   ]
  },
  {
   "cell_type": "code",
   "execution_count": 92,
   "metadata": {},
   "outputs": [
    {
     "name": "stdout",
     "output_type": "stream",
     "text": [
      "{'max_depth': 6, 'n_estimators': 567, 'learning_rate': 0.7642009214647547, 'reg_lambda': 2.9052506373154645}\n"
     ]
    }
   ],
   "source": [
    "print(dict(zip(param_names,result.x))) #best parameter set"
   ]
  },
  {
   "cell_type": "code",
   "execution_count": 104,
   "metadata": {},
   "outputs": [
    {
     "data": {
      "text/html": [
       "<div>\n",
       "<style scoped>\n",
       "    .dataframe tbody tr th:only-of-type {\n",
       "        vertical-align: middle;\n",
       "    }\n",
       "\n",
       "    .dataframe tbody tr th {\n",
       "        vertical-align: top;\n",
       "    }\n",
       "\n",
       "    .dataframe thead th {\n",
       "        text-align: right;\n",
       "    }\n",
       "</style>\n",
       "<table border=\"1\" class=\"dataframe\">\n",
       "  <thead>\n",
       "    <tr style=\"text-align: right;\">\n",
       "      <th></th>\n",
       "      <th>Age</th>\n",
       "      <th>LatestDegreeCGPA</th>\n",
       "      <th>YearsOfExperince</th>\n",
       "      <th>GraduationYear</th>\n",
       "      <th>CurrentCTC</th>\n",
       "      <th>ExpectedCTC</th>\n",
       "      <th>EmpScore</th>\n",
       "      <th>TotalLeavesTaken</th>\n",
       "      <th>LanguageOfCommunication_English</th>\n",
       "      <th>LanguageOfCommunication_Hindi</th>\n",
       "      <th>LanguageOfCommunication_Native</th>\n",
       "      <th>Gender_Female</th>\n",
       "      <th>Gender_Male</th>\n",
       "      <th>Gender_Other</th>\n",
       "      <th>JobProfileIDApplyingFor_JR70175</th>\n",
       "      <th>JobProfileIDApplyingFor_JR79193</th>\n",
       "      <th>JobProfileIDApplyingFor_JR81165</th>\n",
       "      <th>JobProfileIDApplyingFor_JR85289</th>\n",
       "      <th>JobProfileIDApplyingFor_JR87525</th>\n",
       "      <th>JobProfileIDApplyingFor_JR88654</th>\n",
       "      <th>JobProfileIDApplyingFor_JR88873</th>\n",
       "      <th>JobProfileIDApplyingFor_JR88879</th>\n",
       "      <th>JobProfileIDApplyingFor_JR89890</th>\n",
       "      <th>HighestDegree_B.Tech</th>\n",
       "      <th>HighestDegree_BCA</th>\n",
       "      <th>HighestDegree_Dual M.Tech</th>\n",
       "      <th>HighestDegree_Dual MBA</th>\n",
       "      <th>HighestDegree_M.Tech</th>\n",
       "      <th>HighestDegree_MCA</th>\n",
       "      <th>HighestDegree_MS</th>\n",
       "      <th>HighestDegree_PhD</th>\n",
       "      <th>DegreeBranch_Artificial Intelligence</th>\n",
       "      <th>DegreeBranch_Computer Science</th>\n",
       "      <th>DegreeBranch_Electrical</th>\n",
       "      <th>DegreeBranch_Electrical and Electronics</th>\n",
       "      <th>DegreeBranch_Electronics</th>\n",
       "      <th>DegreeBranch_Information Technology</th>\n",
       "      <th>GraduatingInstitute_Tier 1</th>\n",
       "      <th>GraduatingInstitute_Tier 2</th>\n",
       "      <th>GraduatingInstitute_Tier 3</th>\n",
       "      <th>MartialStatus_Married</th>\n",
       "      <th>MartialStatus_Single</th>\n",
       "      <th>CurrentDesignation_BA</th>\n",
       "      <th>CurrentDesignation_DA</th>\n",
       "      <th>CurrentDesignation_DE</th>\n",
       "      <th>CurrentDesignation_DS</th>\n",
       "      <th>CurrentDesignation_EM</th>\n",
       "      <th>CurrentDesignation_SDE</th>\n",
       "      <th>CurrentDesignation_SEM</th>\n",
       "      <th>CurrentDesignation_SSE</th>\n",
       "      <th>CurrentCompanyType_Enterprise</th>\n",
       "      <th>CurrentCompanyType_MidSized</th>\n",
       "      <th>CurrentCompanyType_Startup</th>\n",
       "      <th>DepartmentInCompany_Customer Success</th>\n",
       "      <th>DepartmentInCompany_Design</th>\n",
       "      <th>DepartmentInCompany_Engineering</th>\n",
       "      <th>DepartmentInCompany_Finance</th>\n",
       "      <th>DepartmentInCompany_Product</th>\n",
       "      <th>FitmentPercent</th>\n",
       "    </tr>\n",
       "  </thead>\n",
       "  <tbody>\n",
       "    <tr>\n",
       "      <th>0</th>\n",
       "      <td>35</td>\n",
       "      <td>7</td>\n",
       "      <td>12</td>\n",
       "      <td>2009</td>\n",
       "      <td>21</td>\n",
       "      <td>26</td>\n",
       "      <td>5</td>\n",
       "      <td>20</td>\n",
       "      <td>1</td>\n",
       "      <td>0</td>\n",
       "      <td>0</td>\n",
       "      <td>0</td>\n",
       "      <td>1</td>\n",
       "      <td>0</td>\n",
       "      <td>0</td>\n",
       "      <td>0</td>\n",
       "      <td>0</td>\n",
       "      <td>1</td>\n",
       "      <td>0</td>\n",
       "      <td>0</td>\n",
       "      <td>0</td>\n",
       "      <td>0</td>\n",
       "      <td>0</td>\n",
       "      <td>1</td>\n",
       "      <td>0</td>\n",
       "      <td>0</td>\n",
       "      <td>0</td>\n",
       "      <td>0</td>\n",
       "      <td>0</td>\n",
       "      <td>0</td>\n",
       "      <td>0</td>\n",
       "      <td>0</td>\n",
       "      <td>0</td>\n",
       "      <td>1</td>\n",
       "      <td>0</td>\n",
       "      <td>0</td>\n",
       "      <td>0</td>\n",
       "      <td>1</td>\n",
       "      <td>0</td>\n",
       "      <td>0</td>\n",
       "      <td>1</td>\n",
       "      <td>0</td>\n",
       "      <td>0</td>\n",
       "      <td>0</td>\n",
       "      <td>0</td>\n",
       "      <td>0</td>\n",
       "      <td>0</td>\n",
       "      <td>0</td>\n",
       "      <td>0</td>\n",
       "      <td>1</td>\n",
       "      <td>1</td>\n",
       "      <td>0</td>\n",
       "      <td>0</td>\n",
       "      <td>0</td>\n",
       "      <td>1</td>\n",
       "      <td>0</td>\n",
       "      <td>0</td>\n",
       "      <td>0</td>\n",
       "      <td>95.40</td>\n",
       "    </tr>\n",
       "    <tr>\n",
       "      <th>1</th>\n",
       "      <td>26</td>\n",
       "      <td>7</td>\n",
       "      <td>3</td>\n",
       "      <td>2018</td>\n",
       "      <td>15</td>\n",
       "      <td>19</td>\n",
       "      <td>5</td>\n",
       "      <td>6</td>\n",
       "      <td>1</td>\n",
       "      <td>0</td>\n",
       "      <td>0</td>\n",
       "      <td>0</td>\n",
       "      <td>1</td>\n",
       "      <td>0</td>\n",
       "      <td>0</td>\n",
       "      <td>0</td>\n",
       "      <td>0</td>\n",
       "      <td>0</td>\n",
       "      <td>1</td>\n",
       "      <td>0</td>\n",
       "      <td>0</td>\n",
       "      <td>0</td>\n",
       "      <td>0</td>\n",
       "      <td>1</td>\n",
       "      <td>0</td>\n",
       "      <td>0</td>\n",
       "      <td>0</td>\n",
       "      <td>0</td>\n",
       "      <td>0</td>\n",
       "      <td>0</td>\n",
       "      <td>0</td>\n",
       "      <td>1</td>\n",
       "      <td>0</td>\n",
       "      <td>0</td>\n",
       "      <td>0</td>\n",
       "      <td>0</td>\n",
       "      <td>0</td>\n",
       "      <td>0</td>\n",
       "      <td>0</td>\n",
       "      <td>1</td>\n",
       "      <td>1</td>\n",
       "      <td>0</td>\n",
       "      <td>1</td>\n",
       "      <td>0</td>\n",
       "      <td>0</td>\n",
       "      <td>0</td>\n",
       "      <td>0</td>\n",
       "      <td>0</td>\n",
       "      <td>0</td>\n",
       "      <td>0</td>\n",
       "      <td>0</td>\n",
       "      <td>1</td>\n",
       "      <td>0</td>\n",
       "      <td>0</td>\n",
       "      <td>0</td>\n",
       "      <td>1</td>\n",
       "      <td>0</td>\n",
       "      <td>0</td>\n",
       "      <td>67.09</td>\n",
       "    </tr>\n",
       "    <tr>\n",
       "      <th>2</th>\n",
       "      <td>36</td>\n",
       "      <td>6</td>\n",
       "      <td>6</td>\n",
       "      <td>2015</td>\n",
       "      <td>15</td>\n",
       "      <td>24</td>\n",
       "      <td>5</td>\n",
       "      <td>19</td>\n",
       "      <td>1</td>\n",
       "      <td>0</td>\n",
       "      <td>0</td>\n",
       "      <td>1</td>\n",
       "      <td>0</td>\n",
       "      <td>0</td>\n",
       "      <td>0</td>\n",
       "      <td>0</td>\n",
       "      <td>0</td>\n",
       "      <td>0</td>\n",
       "      <td>1</td>\n",
       "      <td>0</td>\n",
       "      <td>0</td>\n",
       "      <td>0</td>\n",
       "      <td>0</td>\n",
       "      <td>0</td>\n",
       "      <td>0</td>\n",
       "      <td>0</td>\n",
       "      <td>0</td>\n",
       "      <td>0</td>\n",
       "      <td>0</td>\n",
       "      <td>0</td>\n",
       "      <td>1</td>\n",
       "      <td>0</td>\n",
       "      <td>1</td>\n",
       "      <td>0</td>\n",
       "      <td>0</td>\n",
       "      <td>0</td>\n",
       "      <td>0</td>\n",
       "      <td>1</td>\n",
       "      <td>0</td>\n",
       "      <td>0</td>\n",
       "      <td>0</td>\n",
       "      <td>1</td>\n",
       "      <td>0</td>\n",
       "      <td>0</td>\n",
       "      <td>0</td>\n",
       "      <td>0</td>\n",
       "      <td>0</td>\n",
       "      <td>1</td>\n",
       "      <td>0</td>\n",
       "      <td>0</td>\n",
       "      <td>0</td>\n",
       "      <td>1</td>\n",
       "      <td>0</td>\n",
       "      <td>0</td>\n",
       "      <td>0</td>\n",
       "      <td>1</td>\n",
       "      <td>0</td>\n",
       "      <td>0</td>\n",
       "      <td>91.26</td>\n",
       "    </tr>\n",
       "    <tr>\n",
       "      <th>3</th>\n",
       "      <td>29</td>\n",
       "      <td>5</td>\n",
       "      <td>6</td>\n",
       "      <td>2015</td>\n",
       "      <td>16</td>\n",
       "      <td>24</td>\n",
       "      <td>5</td>\n",
       "      <td>16</td>\n",
       "      <td>1</td>\n",
       "      <td>0</td>\n",
       "      <td>0</td>\n",
       "      <td>1</td>\n",
       "      <td>0</td>\n",
       "      <td>0</td>\n",
       "      <td>0</td>\n",
       "      <td>0</td>\n",
       "      <td>0</td>\n",
       "      <td>0</td>\n",
       "      <td>1</td>\n",
       "      <td>0</td>\n",
       "      <td>0</td>\n",
       "      <td>0</td>\n",
       "      <td>0</td>\n",
       "      <td>0</td>\n",
       "      <td>1</td>\n",
       "      <td>0</td>\n",
       "      <td>0</td>\n",
       "      <td>0</td>\n",
       "      <td>0</td>\n",
       "      <td>0</td>\n",
       "      <td>0</td>\n",
       "      <td>0</td>\n",
       "      <td>0</td>\n",
       "      <td>0</td>\n",
       "      <td>0</td>\n",
       "      <td>0</td>\n",
       "      <td>1</td>\n",
       "      <td>0</td>\n",
       "      <td>1</td>\n",
       "      <td>0</td>\n",
       "      <td>1</td>\n",
       "      <td>0</td>\n",
       "      <td>0</td>\n",
       "      <td>0</td>\n",
       "      <td>0</td>\n",
       "      <td>0</td>\n",
       "      <td>0</td>\n",
       "      <td>1</td>\n",
       "      <td>0</td>\n",
       "      <td>0</td>\n",
       "      <td>0</td>\n",
       "      <td>0</td>\n",
       "      <td>1</td>\n",
       "      <td>0</td>\n",
       "      <td>0</td>\n",
       "      <td>0</td>\n",
       "      <td>0</td>\n",
       "      <td>1</td>\n",
       "      <td>72.29</td>\n",
       "    </tr>\n",
       "    <tr>\n",
       "      <th>4</th>\n",
       "      <td>25</td>\n",
       "      <td>8</td>\n",
       "      <td>2</td>\n",
       "      <td>2019</td>\n",
       "      <td>24</td>\n",
       "      <td>32</td>\n",
       "      <td>5</td>\n",
       "      <td>10</td>\n",
       "      <td>1</td>\n",
       "      <td>0</td>\n",
       "      <td>0</td>\n",
       "      <td>0</td>\n",
       "      <td>1</td>\n",
       "      <td>0</td>\n",
       "      <td>1</td>\n",
       "      <td>0</td>\n",
       "      <td>0</td>\n",
       "      <td>0</td>\n",
       "      <td>0</td>\n",
       "      <td>0</td>\n",
       "      <td>0</td>\n",
       "      <td>0</td>\n",
       "      <td>0</td>\n",
       "      <td>0</td>\n",
       "      <td>0</td>\n",
       "      <td>1</td>\n",
       "      <td>0</td>\n",
       "      <td>0</td>\n",
       "      <td>0</td>\n",
       "      <td>0</td>\n",
       "      <td>0</td>\n",
       "      <td>0</td>\n",
       "      <td>1</td>\n",
       "      <td>0</td>\n",
       "      <td>0</td>\n",
       "      <td>0</td>\n",
       "      <td>0</td>\n",
       "      <td>0</td>\n",
       "      <td>0</td>\n",
       "      <td>1</td>\n",
       "      <td>1</td>\n",
       "      <td>0</td>\n",
       "      <td>0</td>\n",
       "      <td>0</td>\n",
       "      <td>0</td>\n",
       "      <td>0</td>\n",
       "      <td>0</td>\n",
       "      <td>1</td>\n",
       "      <td>0</td>\n",
       "      <td>0</td>\n",
       "      <td>1</td>\n",
       "      <td>0</td>\n",
       "      <td>0</td>\n",
       "      <td>0</td>\n",
       "      <td>0</td>\n",
       "      <td>1</td>\n",
       "      <td>0</td>\n",
       "      <td>0</td>\n",
       "      <td>86.34</td>\n",
       "    </tr>\n",
       "  </tbody>\n",
       "</table>\n",
       "</div>"
      ],
      "text/plain": [
       "   Age  LatestDegreeCGPA  YearsOfExperince  GraduationYear  CurrentCTC  \\\n",
       "0   35                 7                12            2009          21   \n",
       "1   26                 7                 3            2018          15   \n",
       "2   36                 6                 6            2015          15   \n",
       "3   29                 5                 6            2015          16   \n",
       "4   25                 8                 2            2019          24   \n",
       "\n",
       "   ExpectedCTC  EmpScore  TotalLeavesTaken  LanguageOfCommunication_English  \\\n",
       "0           26         5                20                                1   \n",
       "1           19         5                 6                                1   \n",
       "2           24         5                19                                1   \n",
       "3           24         5                16                                1   \n",
       "4           32         5                10                                1   \n",
       "\n",
       "   LanguageOfCommunication_Hindi  LanguageOfCommunication_Native  \\\n",
       "0                              0                               0   \n",
       "1                              0                               0   \n",
       "2                              0                               0   \n",
       "3                              0                               0   \n",
       "4                              0                               0   \n",
       "\n",
       "   Gender_Female  Gender_Male  Gender_Other  JobProfileIDApplyingFor_JR70175  \\\n",
       "0              0            1             0                                0   \n",
       "1              0            1             0                                0   \n",
       "2              1            0             0                                0   \n",
       "3              1            0             0                                0   \n",
       "4              0            1             0                                1   \n",
       "\n",
       "   JobProfileIDApplyingFor_JR79193  JobProfileIDApplyingFor_JR81165  \\\n",
       "0                                0                                0   \n",
       "1                                0                                0   \n",
       "2                                0                                0   \n",
       "3                                0                                0   \n",
       "4                                0                                0   \n",
       "\n",
       "   JobProfileIDApplyingFor_JR85289  JobProfileIDApplyingFor_JR87525  \\\n",
       "0                                1                                0   \n",
       "1                                0                                1   \n",
       "2                                0                                1   \n",
       "3                                0                                1   \n",
       "4                                0                                0   \n",
       "\n",
       "   JobProfileIDApplyingFor_JR88654  JobProfileIDApplyingFor_JR88873  \\\n",
       "0                                0                                0   \n",
       "1                                0                                0   \n",
       "2                                0                                0   \n",
       "3                                0                                0   \n",
       "4                                0                                0   \n",
       "\n",
       "   JobProfileIDApplyingFor_JR88879  JobProfileIDApplyingFor_JR89890  \\\n",
       "0                                0                                0   \n",
       "1                                0                                0   \n",
       "2                                0                                0   \n",
       "3                                0                                0   \n",
       "4                                0                                0   \n",
       "\n",
       "   HighestDegree_B.Tech  HighestDegree_BCA  HighestDegree_Dual M.Tech  \\\n",
       "0                     1                  0                          0   \n",
       "1                     1                  0                          0   \n",
       "2                     0                  0                          0   \n",
       "3                     0                  1                          0   \n",
       "4                     0                  0                          1   \n",
       "\n",
       "   HighestDegree_Dual MBA  HighestDegree_M.Tech  HighestDegree_MCA  \\\n",
       "0                       0                     0                  0   \n",
       "1                       0                     0                  0   \n",
       "2                       0                     0                  0   \n",
       "3                       0                     0                  0   \n",
       "4                       0                     0                  0   \n",
       "\n",
       "   HighestDegree_MS  HighestDegree_PhD  DegreeBranch_Artificial Intelligence  \\\n",
       "0                 0                  0                                     0   \n",
       "1                 0                  0                                     1   \n",
       "2                 0                  1                                     0   \n",
       "3                 0                  0                                     0   \n",
       "4                 0                  0                                     0   \n",
       "\n",
       "   DegreeBranch_Computer Science  DegreeBranch_Electrical  \\\n",
       "0                              0                        1   \n",
       "1                              0                        0   \n",
       "2                              1                        0   \n",
       "3                              0                        0   \n",
       "4                              1                        0   \n",
       "\n",
       "   DegreeBranch_Electrical and Electronics  DegreeBranch_Electronics  \\\n",
       "0                                        0                         0   \n",
       "1                                        0                         0   \n",
       "2                                        0                         0   \n",
       "3                                        0                         0   \n",
       "4                                        0                         0   \n",
       "\n",
       "   DegreeBranch_Information Technology  GraduatingInstitute_Tier 1  \\\n",
       "0                                    0                           1   \n",
       "1                                    0                           0   \n",
       "2                                    0                           1   \n",
       "3                                    1                           0   \n",
       "4                                    0                           0   \n",
       "\n",
       "   GraduatingInstitute_Tier 2  GraduatingInstitute_Tier 3  \\\n",
       "0                           0                           0   \n",
       "1                           0                           1   \n",
       "2                           0                           0   \n",
       "3                           1                           0   \n",
       "4                           0                           1   \n",
       "\n",
       "   MartialStatus_Married  MartialStatus_Single  CurrentDesignation_BA  \\\n",
       "0                      1                     0                      0   \n",
       "1                      1                     0                      1   \n",
       "2                      0                     1                      0   \n",
       "3                      1                     0                      0   \n",
       "4                      1                     0                      0   \n",
       "\n",
       "   CurrentDesignation_DA  CurrentDesignation_DE  CurrentDesignation_DS  \\\n",
       "0                      0                      0                      0   \n",
       "1                      0                      0                      0   \n",
       "2                      0                      0                      0   \n",
       "3                      0                      0                      0   \n",
       "4                      0                      0                      0   \n",
       "\n",
       "   CurrentDesignation_EM  CurrentDesignation_SDE  CurrentDesignation_SEM  \\\n",
       "0                      0                       0                       0   \n",
       "1                      0                       0                       0   \n",
       "2                      0                       1                       0   \n",
       "3                      0                       1                       0   \n",
       "4                      0                       1                       0   \n",
       "\n",
       "   CurrentDesignation_SSE  CurrentCompanyType_Enterprise  \\\n",
       "0                       1                              1   \n",
       "1                       0                              0   \n",
       "2                       0                              0   \n",
       "3                       0                              0   \n",
       "4                       0                              1   \n",
       "\n",
       "   CurrentCompanyType_MidSized  CurrentCompanyType_Startup  \\\n",
       "0                            0                           0   \n",
       "1                            1                           0   \n",
       "2                            1                           0   \n",
       "3                            0                           1   \n",
       "4                            0                           0   \n",
       "\n",
       "   DepartmentInCompany_Customer Success  DepartmentInCompany_Design  \\\n",
       "0                                     0                           1   \n",
       "1                                     0                           0   \n",
       "2                                     0                           0   \n",
       "3                                     0                           0   \n",
       "4                                     0                           0   \n",
       "\n",
       "   DepartmentInCompany_Engineering  DepartmentInCompany_Finance  \\\n",
       "0                                0                            0   \n",
       "1                                1                            0   \n",
       "2                                1                            0   \n",
       "3                                0                            0   \n",
       "4                                1                            0   \n",
       "\n",
       "   DepartmentInCompany_Product  FitmentPercent  \n",
       "0                            0           95.40  \n",
       "1                            0           67.09  \n",
       "2                            0           91.26  \n",
       "3                            1           72.29  \n",
       "4                            0           86.34  "
      ]
     },
     "execution_count": 104,
     "metadata": {},
     "output_type": "execute_result"
    }
   ],
   "source": [
    "#Test field doesn't have FitmentPercent column so I have added prediction from regression to test set\n",
    "\n",
    "df_test['FitmentPercent'] = prediction_re\n",
    "temp_fit = X['FitmentPercent']\n",
    "X.drop('FitmentPercent',axis=1,inplace=True)\n",
    "X['FitmentPercent'] = temp_fit\n",
    "X.head()"
   ]
  },
  {
   "cell_type": "code",
   "execution_count": 105,
   "metadata": {},
   "outputs": [
    {
     "data": {
      "text/plain": [
       "array([ 2,  2,  9, ...,  2,  1, 10], dtype=int64)"
      ]
     },
     "execution_count": 105,
     "metadata": {},
     "output_type": "execute_result"
    }
   ],
   "source": [
    "#classifier get parameter from optimizer\n",
    "\n",
    "x_r_c=XGBClassifier(max_depth= 6, n_estimators=567, learning_rate=0.7642009214647547, reg_lambda=2.9052506373154645)\n",
    "x_r_c.fit(X, y)\n",
    "prediction_re_class = x_r_c.predict(df_test)\n",
    "prediction_re_class"
   ]
  },
  {
   "cell_type": "code",
   "execution_count": 115,
   "metadata": {},
   "outputs": [],
   "source": [
    "#dataframe created as per submission rule\n",
    "\n",
    "submission_df=pd.DataFrame({'EmpID':test_data_id,'BiasInfluentialFactor':prediction_re_class,\n",
    "                            'FitmentPercent':prediction_re})"
   ]
  },
  {
   "cell_type": "code",
   "execution_count": 116,
   "metadata": {},
   "outputs": [],
   "source": [
    "#number coded target returned as original categorical variable\n",
    "\n",
    "reverse_dic_bias = {1:'Missing',2:'DegreeBranch',3:'Gender',4:'YearsOfExperince',5:'CurrentCompanyType',6:'EmpScore',\n",
    "            7:'HighestDegree',8:'Ethinicity',9:'MartialStatus',10:'LatestDegreeCGPA'}\n",
    "submission_df['BiasInfluentialFactor'] = submission_df['BiasInfluentialFactor'].map(reverse_dic_bias)"
   ]
  },
  {
   "cell_type": "code",
   "execution_count": 117,
   "metadata": {},
   "outputs": [],
   "source": [
    "#should be replace with np.nan\n",
    "submission_df['BiasInfluentialFactor'] = np.where(submission_df['BiasInfluentialFactor']=='Missing',np.nan,submission_df['BiasInfluentialFactor'])"
   ]
  },
  {
   "cell_type": "code",
   "execution_count": 118,
   "metadata": {},
   "outputs": [
    {
     "data": {
      "text/html": [
       "<div>\n",
       "<style scoped>\n",
       "    .dataframe tbody tr th:only-of-type {\n",
       "        vertical-align: middle;\n",
       "    }\n",
       "\n",
       "    .dataframe tbody tr th {\n",
       "        vertical-align: top;\n",
       "    }\n",
       "\n",
       "    .dataframe thead th {\n",
       "        text-align: right;\n",
       "    }\n",
       "</style>\n",
       "<table border=\"1\" class=\"dataframe\">\n",
       "  <thead>\n",
       "    <tr style=\"text-align: right;\">\n",
       "      <th></th>\n",
       "      <th>EmpID</th>\n",
       "      <th>BiasInfluentialFactor</th>\n",
       "      <th>FitmentPercent</th>\n",
       "    </tr>\n",
       "  </thead>\n",
       "  <tbody>\n",
       "    <tr>\n",
       "      <th>0</th>\n",
       "      <td>5664</td>\n",
       "      <td>DegreeBranch</td>\n",
       "      <td>90.040802</td>\n",
       "    </tr>\n",
       "    <tr>\n",
       "      <th>1</th>\n",
       "      <td>23568</td>\n",
       "      <td>DegreeBranch</td>\n",
       "      <td>89.628967</td>\n",
       "    </tr>\n",
       "    <tr>\n",
       "      <th>2</th>\n",
       "      <td>21490</td>\n",
       "      <td>MartialStatus</td>\n",
       "      <td>80.988335</td>\n",
       "    </tr>\n",
       "    <tr>\n",
       "      <th>3</th>\n",
       "      <td>8363</td>\n",
       "      <td></td>\n",
       "      <td>57.093945</td>\n",
       "    </tr>\n",
       "    <tr>\n",
       "      <th>4</th>\n",
       "      <td>6165</td>\n",
       "      <td>Gender</td>\n",
       "      <td>80.323524</td>\n",
       "    </tr>\n",
       "    <tr>\n",
       "      <th>5</th>\n",
       "      <td>17679</td>\n",
       "      <td></td>\n",
       "      <td>55.699467</td>\n",
       "    </tr>\n",
       "    <tr>\n",
       "      <th>6</th>\n",
       "      <td>9715</td>\n",
       "      <td>DegreeBranch</td>\n",
       "      <td>81.542114</td>\n",
       "    </tr>\n",
       "    <tr>\n",
       "      <th>7</th>\n",
       "      <td>12591</td>\n",
       "      <td></td>\n",
       "      <td>55.287682</td>\n",
       "    </tr>\n",
       "    <tr>\n",
       "      <th>8</th>\n",
       "      <td>6140</td>\n",
       "      <td></td>\n",
       "      <td>54.794083</td>\n",
       "    </tr>\n",
       "    <tr>\n",
       "      <th>9</th>\n",
       "      <td>21018</td>\n",
       "      <td></td>\n",
       "      <td>55.110466</td>\n",
       "    </tr>\n",
       "  </tbody>\n",
       "</table>\n",
       "</div>"
      ],
      "text/plain": [
       "   EmpID BiasInfluentialFactor  FitmentPercent\n",
       "0   5664          DegreeBranch       90.040802\n",
       "1  23568          DegreeBranch       89.628967\n",
       "2  21490         MartialStatus       80.988335\n",
       "3   8363                             57.093945\n",
       "4   6165                Gender       80.323524\n",
       "5  17679                             55.699467\n",
       "6   9715          DegreeBranch       81.542114\n",
       "7  12591                             55.287682\n",
       "8   6140                             54.794083\n",
       "9  21018                             55.110466"
      ]
     },
     "execution_count": 118,
     "metadata": {},
     "output_type": "execute_result"
    }
   ],
   "source": [
    "#dataframe to submit\n",
    "\n",
    "submission_df.head(10)"
   ]
  },
  {
   "cell_type": "code",
   "execution_count": 119,
   "metadata": {},
   "outputs": [],
   "source": [
    "submission_df.to_csv('Submission.csv',index=None)"
   ]
  },
  {
   "cell_type": "code",
   "execution_count": 120,
   "metadata": {},
   "outputs": [
    {
     "data": {
      "text/plain": [
       "                      2183\n",
       "Gender                1916\n",
       "DegreeBranch          1880\n",
       "YearsOfExperince      1070\n",
       "EmpScore               513\n",
       "HighestDegree          398\n",
       "MartialStatus          316\n",
       "LatestDegreeCGPA       229\n",
       "CurrentCompanyType     167\n",
       "Ethinicity              73\n",
       "Name: BiasInfluentialFactor, dtype: int64"
      ]
     },
     "execution_count": 120,
     "metadata": {},
     "output_type": "execute_result"
    }
   ],
   "source": [
    "submission_df['BiasInfluentialFactor'].value_counts()"
   ]
  },
  {
   "cell_type": "code",
   "execution_count": 122,
   "metadata": {},
   "outputs": [
    {
     "name": "stdout",
     "output_type": "stream",
     "text": [
      "Gender_Female                              0.301526\n",
      "HighestDegree_MS                           0.178799\n",
      "CurrentCompanyType_Enterprise              0.116996\n",
      "DegreeBranch_Information Technology        0.111492\n",
      "DegreeBranch_Computer Science              0.079677\n",
      "Gender_Male                                0.050007\n",
      "EmpScore                                   0.024660\n",
      "YearsOfExperince                           0.022861\n",
      "FitmentPercent                             0.019470\n",
      "Gender_Other                               0.018670\n",
      "CurrentCTC                                 0.014498\n",
      "LatestDegreeCGPA                           0.007807\n",
      "MartialStatus_Married                      0.007143\n",
      "DegreeBranch_Electrical and Electronics    0.006243\n",
      "CurrentDesignation_DA                      0.003016\n",
      "DegreeBranch_Electronics                   0.002558\n",
      "CurrentDesignation_SEM                     0.002550\n",
      "DegreeBranch_Electrical                    0.002143\n",
      "DegreeBranch_Artificial Intelligence       0.001893\n",
      "JobProfileIDApplyingFor_JR81165            0.001868\n",
      "CurrentDesignation_EM                      0.001664\n",
      "LanguageOfCommunication_Native             0.001585\n",
      "Age                                        0.001535\n",
      "JobProfileIDApplyingFor_JR89890            0.001522\n",
      "JobProfileIDApplyingFor_JR88873            0.001489\n",
      "HighestDegree_Dual MBA                     0.001433\n",
      "JobProfileIDApplyingFor_JR79193            0.001268\n",
      "DepartmentInCompany_Product                0.001169\n",
      "HighestDegree_BCA                          0.001111\n",
      "JobProfileIDApplyingFor_JR88654            0.001057\n",
      "JobProfileIDApplyingFor_JR88879            0.001052\n",
      "DepartmentInCompany_Customer Success       0.000903\n",
      "CurrentDesignation_DS                      0.000873\n",
      "HighestDegree_Dual M.Tech                  0.000752\n",
      "GraduatingInstitute_Tier 3                 0.000710\n",
      "HighestDegree_PhD                          0.000702\n",
      "HighestDegree_M.Tech                       0.000656\n",
      "JobProfileIDApplyingFor_JR87525            0.000615\n",
      "JobProfileIDApplyingFor_JR70175            0.000602\n",
      "DepartmentInCompany_Design                 0.000599\n",
      "GraduatingInstitute_Tier 1                 0.000447\n",
      "LanguageOfCommunication_Hindi              0.000439\n",
      "CurrentDesignation_SSE                     0.000397\n",
      "TotalLeavesTaken                           0.000392\n",
      "ExpectedCTC                                0.000390\n",
      "DepartmentInCompany_Engineering            0.000357\n",
      "CurrentDesignation_BA                      0.000357\n",
      "JobProfileIDApplyingFor_JR85289            0.000346\n",
      "CurrentCompanyType_MidSized                0.000281\n",
      "DepartmentInCompany_Finance                0.000269\n",
      "GraduatingInstitute_Tier 2                 0.000263\n",
      "LanguageOfCommunication_English            0.000255\n",
      "CurrentDesignation_SDE                     0.000246\n",
      "HighestDegree_B.Tech                       0.000217\n",
      "CurrentCompanyType_Startup                 0.000166\n",
      "MartialStatus_Single                       0.000000\n",
      "HighestDegree_MCA                          0.000000\n",
      "CurrentDesignation_DE                      0.000000\n",
      "GraduationYear                             0.000000\n",
      "dtype: float32\n"
     ]
    }
   ],
   "source": [
    "#most important features in classification\n",
    "\n",
    "imp_feat=pd.Series(x_r_c.feature_importances_,index=X.columns) \n",
    "print(imp_feat.sort_values(ascending=False))"
   ]
  }
 ],
 "metadata": {
  "kernelspec": {
   "display_name": "Python 3",
   "language": "python",
   "name": "python3"
  },
  "language_info": {
   "codemirror_mode": {
    "name": "ipython",
    "version": 3
   },
   "file_extension": ".py",
   "mimetype": "text/x-python",
   "name": "python",
   "nbconvert_exporter": "python",
   "pygments_lexer": "ipython3",
   "version": "3.8.3"
  }
 },
 "nbformat": 4,
 "nbformat_minor": 4
}
